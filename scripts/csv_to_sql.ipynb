{
 "cells": [
  {
   "cell_type": "code",
   "execution_count": 48,
   "metadata": {},
   "outputs": [],
   "source": [
    "import psycopg2\n",
    "from psycopg2.extras import RealDictCursor\n",
    "import pandas as pd\n",
    "import uuid\n",
    "import requests\n",
    "import json"
   ]
  },
  {
   "cell_type": "code",
   "execution_count": 43,
   "metadata": {},
   "outputs": [],
   "source": [
    "conn = psycopg2.connect(\n",
    "    host='ud-adp-rolling.cbyis8su6n0i.us-east-2.rds.amazonaws.com',\n",
    "    user='postgres',\n",
    "    password='liammurphybbm2',\n",
    "    port=5432\n",
    ")\n",
    "\n",
    "cursor = conn.cursor(cursor_factory=RealDictCursor)"
   ]
  },
  {
   "cell_type": "markdown",
   "metadata": {},
   "source": [
    "# Add BBM4 players to postgres db"
   ]
  },
  {
   "cell_type": "code",
   "execution_count": null,
   "metadata": {},
   "outputs": [],
   "source": []
  },
  {
   "cell_type": "markdown",
   "metadata": {},
   "source": [
    "# Add BBM5 players to Postgres db"
   ]
  },
  {
   "cell_type": "code",
   "execution_count": 8,
   "metadata": {},
   "outputs": [],
   "source": [
    "data = pd.read_csv('data/bbm5_adp.csv', delimiter=',')\n",
    "\n",
    "for idx, row in data.iterrows():\n",
    "    cursor.execute(\"INSERT INTO player_info (player_id, player_name, position) VALUES (%s, %s, %s)\",\n",
    "                   (row['player_id'], row['player_name'], row['position_name']))\n",
    "    \n",
    "conn.commit()"
   ]
  },
  {
   "cell_type": "code",
   "execution_count": 15,
   "metadata": {},
   "outputs": [],
   "source": [
    "for idx, row in data.iterrows():\n",
    "    for date in data.columns[4:]:\n",
    "        cursor.execute(\"INSERT INTO player_adp (player_id, date, adp) VALUES (%s, %s, %s)\",\n",
    "                    (row['player_id'], date, row[date]))\n",
    "\n",
    "conn.commit()"
   ]
  },
  {
   "cell_type": "markdown",
   "metadata": {},
   "source": [
    "# Add BBM6 players to postgres db"
   ]
  },
  {
   "cell_type": "code",
   "execution_count": 15,
   "metadata": {},
   "outputs": [
    {
     "data": {
      "text/html": [
       "<div>\n",
       "<style scoped>\n",
       "    .dataframe tbody tr th:only-of-type {\n",
       "        vertical-align: middle;\n",
       "    }\n",
       "\n",
       "    .dataframe tbody tr th {\n",
       "        vertical-align: top;\n",
       "    }\n",
       "\n",
       "    .dataframe thead th {\n",
       "        text-align: right;\n",
       "    }\n",
       "</style>\n",
       "<table border=\"1\" class=\"dataframe\">\n",
       "  <thead>\n",
       "    <tr style=\"text-align: right;\">\n",
       "      <th></th>\n",
       "      <th>Rank</th>\n",
       "      <th>Player</th>\n",
       "      <th>Position</th>\n",
       "      <th>Position Rank</th>\n",
       "      <th>ADP on April 29</th>\n",
       "      <th>ADP on July 12</th>\n",
       "      <th>ADP Change</th>\n",
       "    </tr>\n",
       "  </thead>\n",
       "  <tbody>\n",
       "    <tr>\n",
       "      <th>0</th>\n",
       "      <td>1</td>\n",
       "      <td>Ja'Marr Chase</td>\n",
       "      <td>WR</td>\n",
       "      <td>WR1</td>\n",
       "      <td>1.1</td>\n",
       "      <td>1.1</td>\n",
       "      <td>0.0</td>\n",
       "    </tr>\n",
       "    <tr>\n",
       "      <th>1</th>\n",
       "      <td>2</td>\n",
       "      <td>Justin Jefferson</td>\n",
       "      <td>WR</td>\n",
       "      <td>WR2</td>\n",
       "      <td>3.7</td>\n",
       "      <td>2.8</td>\n",
       "      <td>-0.9</td>\n",
       "    </tr>\n",
       "    <tr>\n",
       "      <th>2</th>\n",
       "      <td>3</td>\n",
       "      <td>Bijan Robinson</td>\n",
       "      <td>RB</td>\n",
       "      <td>RB1</td>\n",
       "      <td>3.7</td>\n",
       "      <td>3.1</td>\n",
       "      <td>-0.6</td>\n",
       "    </tr>\n",
       "    <tr>\n",
       "      <th>3</th>\n",
       "      <td>4</td>\n",
       "      <td>Saquon Barkley</td>\n",
       "      <td>RB</td>\n",
       "      <td>RB2</td>\n",
       "      <td>2.5</td>\n",
       "      <td>4.1</td>\n",
       "      <td>1.6</td>\n",
       "    </tr>\n",
       "    <tr>\n",
       "      <th>4</th>\n",
       "      <td>5</td>\n",
       "      <td>CeeDee Lamb</td>\n",
       "      <td>WR</td>\n",
       "      <td>WR3</td>\n",
       "      <td>5.3</td>\n",
       "      <td>4.8</td>\n",
       "      <td>-0.5</td>\n",
       "    </tr>\n",
       "  </tbody>\n",
       "</table>\n",
       "</div>"
      ],
      "text/plain": [
       "   Rank            Player Position Position Rank  ADP on April 29  \\\n",
       "0     1     Ja'Marr Chase       WR           WR1              1.1   \n",
       "1     2  Justin Jefferson       WR           WR2              3.7   \n",
       "2     3    Bijan Robinson       RB           RB1              3.7   \n",
       "3     4    Saquon Barkley       RB           RB2              2.5   \n",
       "4     5       CeeDee Lamb       WR           WR3              5.3   \n",
       "\n",
       "   ADP on July 12  ADP Change  \n",
       "0             1.1         0.0  \n",
       "1             2.8        -0.9  \n",
       "2             3.1        -0.6  \n",
       "3             4.1         1.6  \n",
       "4             4.8        -0.5  "
      ]
     },
     "execution_count": 15,
     "metadata": {},
     "output_type": "execute_result"
    }
   ],
   "source": [
    "bbm6_data = pd.read_csv('data/Underdog_Draft_Table_2025-07-13.csv', delimiter=',')\n",
    "bbm6_data.head()"
   ]
  },
  {
   "cell_type": "code",
   "execution_count": 46,
   "metadata": {},
   "outputs": [],
   "source": [
    "cursor.execute('SELECT player_name FROM player_info')\n",
    "player_info = cursor.fetchall()\n",
    "\n",
    "player_names = []\n",
    "for player in player_info:\n",
    "    player_names.append(player['player_name'])\n",
    "\n",
    "player_data = []\n",
    "for idx, row in bbm6_data.iterrows():\n",
    "    if row['Player'] not in player_names:\n",
    "        print(row['Player'])\n",
    "        player_data.append((str(uuid.uuid4()), row['Player'], row['Position']))\n",
    "\n",
    "cursor.executemany(\n",
    "    \"INSERT INTO player_info (player_id, player_name, position) VALUES (%s, %s, %s)\",\n",
    "    player_data\n",
    ")\n",
    "\n",
    "conn.commit()"
   ]
  },
  {
   "cell_type": "code",
   "execution_count": 47,
   "metadata": {},
   "outputs": [],
   "source": [
    "conn.close()\n",
    "cursor.close()"
   ]
  },
  {
   "cell_type": "code",
   "execution_count": null,
   "metadata": {},
   "outputs": [],
   "source": []
  }
 ],
 "metadata": {
  "kernelspec": {
   "display_name": "ds",
   "language": "python",
   "name": "python3"
  },
  "language_info": {
   "codemirror_mode": {
    "name": "ipython",
    "version": 3
   },
   "file_extension": ".py",
   "mimetype": "text/x-python",
   "name": "python",
   "nbconvert_exporter": "python",
   "pygments_lexer": "ipython3",
   "version": "3.10.16"
  }
 },
 "nbformat": 4,
 "nbformat_minor": 2
}
