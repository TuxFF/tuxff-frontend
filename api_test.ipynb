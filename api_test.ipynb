{
 "cells": [
  {
   "cell_type": "code",
   "execution_count": 7,
   "id": "88756c51",
   "metadata": {},
   "outputs": [],
   "source": [
    "import requests\n",
    "import json"
   ]
  },
  {
   "cell_type": "code",
   "execution_count": 9,
   "id": "4f37cb90",
   "metadata": {},
   "outputs": [
    {
     "name": "stdout",
     "output_type": "stream",
     "text": [
      "Player not found\n"
     ]
    }
   ],
   "source": [
    "API_URL = \"https://ms5dlzolh3.execute-api.us-east-2.amazonaws.com/default/player-get-adp\"\n",
    "\n",
    "def get_player_data(player_id):\n",
    "    try:\n",
    "        # Make the API call\n",
    "        response = requests.get(f\"{API_URL}/{player_id}\")\n",
    "        \n",
    "        # Check if request was successful\n",
    "        if response.status_code == 200:\n",
    "            player_data = response.json()\n",
    "            return player_data\n",
    "        elif response.status_code == 404:\n",
    "            print(\"Player not found\")\n",
    "            return None\n",
    "        else:\n",
    "            print(f\"Error: {response.status_code}\")\n",
    "            return None\n",
    "            \n",
    "    except requests.exceptions.RequestException as e:\n",
    "        print(f\"Request failed: {e}\")\n",
    "        return None\n",
    "\n",
    "# Usage\n",
    "player_id = \"4de8084d-aa1a-43c7-9676-0def5b39e980\"  # Your UUID\n",
    "player_data = get_player_data(player_id)\n",
    "\n",
    "if player_data:\n",
    "    print(\"Player Data:\")\n",
    "    print(json.dumps(player_data, indent=2))"
   ]
  },
  {
   "cell_type": "code",
   "execution_count": null,
   "id": "289b77f4",
   "metadata": {},
   "outputs": [],
   "source": []
  }
 ],
 "metadata": {
  "kernelspec": {
   "display_name": "ds",
   "language": "python",
   "name": "python3"
  },
  "language_info": {
   "codemirror_mode": {
    "name": "ipython",
    "version": 3
   },
   "file_extension": ".py",
   "mimetype": "text/x-python",
   "name": "python",
   "nbconvert_exporter": "python",
   "pygments_lexer": "ipython3",
   "version": "3.10.16"
  }
 },
 "nbformat": 4,
 "nbformat_minor": 5
}
